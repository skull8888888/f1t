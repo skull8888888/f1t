{
 "cells": [
  {
   "cell_type": "code",
   "execution_count": 3,
   "metadata": {},
   "outputs": [],
   "source": [
    "import torch\n",
    "import pandas as pd\n",
    "import numpy as np\n",
    "import torchvision\n",
    "from PIL import Image\n",
    "import matplotlib.pyplot as plt\n",
    "\n",
    "from torch import nn\n",
    "from torch import optim\n",
    "\n",
    "import torch.nn.functional as F\n",
    "import scipy\n",
    "from sklearn.utils import resample\n",
    "from collections import OrderedDict"
   ]
  },
  {
   "cell_type": "code",
   "execution_count": 45,
   "metadata": {},
   "outputs": [],
   "source": [
    "class Dataset(torch.utils.data.Dataset):\n",
    "    def __init__(self, dataframe, images_path):\n",
    "        self.dataframe = dataframe\n",
    "        self.images_path = images_path\n",
    "\n",
    "    def __len__(self):\n",
    "        return len(self.dataframe)\n",
    "\n",
    "    def __getitem__(self, index):\n",
    "        row = self.dataframe.iloc[index]\n",
    "#         print(row['index'])\n",
    "        img = Image.open(self.images_path + str(int(row['index'])).zfill(4) + '.jpg')\n",
    "#         img = img.resize((224,224), Image.ANTIALIAS)\n",
    "        return (\n",
    "            torchvision.transforms.functional.to_tensor(img),\n",
    "            row[\"data\"],\n",
    "        )\n"
   ]
  },
  {
   "cell_type": "code",
   "execution_count": 5,
   "metadata": {},
   "outputs": [],
   "source": [
    "df = pd.read_csv('train_steer.csv', index_col=False)\n",
    "df = df.reset_index()\n"
   ]
  },
  {
   "cell_type": "code",
   "execution_count": 6,
   "metadata": {},
   "outputs": [
    {
     "data": {
      "text/plain": [
       "<AxesSubplot:ylabel='Frequency'>"
      ]
     },
     "execution_count": 6,
     "metadata": {},
     "output_type": "execute_result"
    },
    {
     "data": {
      "image/png": "[encoded data removed]",
      "text/plain": [
       "<Figure size 432x288 with 1 Axes>"
      ]
     },
     "metadata": {
      "needs_background": "light"
     },
     "output_type": "display_data"
    }
   ],
   "source": [
    "# image, label = next(iter(test_dataset))\n",
    "df.data.plot.hist()"
   ]
  },
  {
   "cell_type": "code",
   "execution_count": 48,
   "metadata": {},
   "outputs": [
    {
     "data": {
      "text/html": [
       "<div>\n",
       "<style scoped>\n",
       "    .dataframe tbody tr th:only-of-type {\n",
       "        vertical-align: middle;\n",
       "    }\n",
       "\n",
       "    .dataframe tbody tr th {\n",
       "        vertical-align: top;\n",
       "    }\n",
       "\n",
       "    .dataframe thead th {\n",
       "        text-align: right;\n",
       "    }\n",
       "</style>\n",
       "<table border=\"1\" class=\"dataframe\">\n",
       "  <thead>\n",
       "    <tr style=\"text-align: right;\">\n",
       "      <th></th>\n",
       "      <th>index</th>\n",
       "      <th>Unnamed: 0</th>\n",
       "      <th>data</th>\n",
       "    </tr>\n",
       "  </thead>\n",
       "  <tbody>\n",
       "    <tr>\n",
       "      <th>0</th>\n",
       "      <td>0</td>\n",
       "      <td>0</td>\n",
       "      <td>0.0875</td>\n",
       "    </tr>\n",
       "    <tr>\n",
       "      <th>1</th>\n",
       "      <td>1</td>\n",
       "      <td>1</td>\n",
       "      <td>0.0900</td>\n",
       "    </tr>\n",
       "    <tr>\n",
       "      <th>2</th>\n",
       "      <td>2</td>\n",
       "      <td>2</td>\n",
       "      <td>0.0900</td>\n",
       "    </tr>\n",
       "    <tr>\n",
       "      <th>3</th>\n",
       "      <td>3</td>\n",
       "      <td>3</td>\n",
       "      <td>0.0875</td>\n",
       "    </tr>\n",
       "    <tr>\n",
       "      <th>4</th>\n",
       "      <td>4</td>\n",
       "      <td>4</td>\n",
       "      <td>0.0875</td>\n",
       "    </tr>\n",
       "    <tr>\n",
       "      <th>...</th>\n",
       "      <td>...</td>\n",
       "      <td>...</td>\n",
       "      <td>...</td>\n",
       "    </tr>\n",
       "    <tr>\n",
       "      <th>1560</th>\n",
       "      <td>1560</td>\n",
       "      <td>1560</td>\n",
       "      <td>-0.4400</td>\n",
       "    </tr>\n",
       "    <tr>\n",
       "      <th>1995</th>\n",
       "      <td>1995</td>\n",
       "      <td>1995</td>\n",
       "      <td>-0.8375</td>\n",
       "    </tr>\n",
       "    <tr>\n",
       "      <th>3558</th>\n",
       "      <td>3558</td>\n",
       "      <td>3558</td>\n",
       "      <td>-0.5175</td>\n",
       "    </tr>\n",
       "    <tr>\n",
       "      <th>1639</th>\n",
       "      <td>1639</td>\n",
       "      <td>1639</td>\n",
       "      <td>-0.9800</td>\n",
       "    </tr>\n",
       "    <tr>\n",
       "      <th>6119</th>\n",
       "      <td>6119</td>\n",
       "      <td>6119</td>\n",
       "      <td>-0.9675</td>\n",
       "    </tr>\n",
       "  </tbody>\n",
       "</table>\n",
       "<p>10500 rows × 3 columns</p>\n",
       "</div>"
      ],
      "text/plain": [
       "      index  Unnamed: 0    data\n",
       "0         0           0  0.0875\n",
       "1         1           1  0.0900\n",
       "2         2           2  0.0900\n",
       "3         3           3  0.0875\n",
       "4         4           4  0.0875\n",
       "...     ...         ...     ...\n",
       "1560   1560        1560 -0.4400\n",
       "1995   1995        1995 -0.8375\n",
       "3558   3558        3558 -0.5175\n",
       "1639   1639        1639 -0.9800\n",
       "6119   6119        6119 -0.9675\n",
       "\n",
       "[10500 rows x 3 columns]"
      ]
     },
     "execution_count": 48,
     "metadata": {},
     "output_type": "execute_result"
    },
    {
     "data": {
      "image/png": "[encoded data removed]",
      "text/plain": [
       "<Figure size 432x288 with 1 Axes>"
      ]
     },
     "metadata": {
      "needs_background": "light"
     },
     "output_type": "display_data"
    }
   ],
   "source": [
    "# plt.imshow(image.permute(1, 2, 0))\n",
    "threshold = -0.3\n",
    "df_min = df[df.data < threshold]\n",
    "df_maj = df[df.data >= threshold]\n",
    "\n",
    "df_minority_upsampled = resample(df_min, \n",
    "                                 replace=True,     # sample with replacement\n",
    "                                 n_samples=len(df_maj),    # to match majority class\n",
    "                                 random_state=123)\n",
    "# df\n",
    "df_balanced = pd.concat([df_maj, df_minority_upsampled])\n",
    "df_balanced.data.plot.hist()\n",
    "\n",
    "df_balanced\n",
    "# train_df['data'].plot.hist()"
   ]
  },
  {
   "cell_type": "code",
   "execution_count": 46,
   "metadata": {},
   "outputs": [],
   "source": [
    "dataset = Dataset(df, '../../../../catkin_ws/images/train/left')\n",
    "dataloader = torch.utils.data.DataLoader(dataset, batch_size=16, shuffle=True)\n"
   ]
  },
  {
   "cell_type": "code",
   "execution_count": 8,
   "metadata": {
    "scrolled": true
   },
   "outputs": [
    {
     "name": "stderr",
     "output_type": "stream",
     "text": [
      "Downloading: \"https://download.pytorch.org/models/resnet18-5c106cde.pth\" to /home/user/.cache/torch/hub/checkpoints/resnet18-5c106cde.pth\n",
      "52.5%IOPub message rate exceeded.\n",
      "The notebook server will temporarily stop sending output\n",
      "to the client in order to avoid crashing it.\n",
      "To change this limit, set the config variable\n",
      "`--NotebookApp.iopub_msg_rate_limit`.\n",
      "\n",
      "Current values:\n",
      "NotebookApp.iopub_msg_rate_limit=1000.0 (msgs/sec)\n",
      "NotebookApp.rate_limit_window=3.0 (secs)\n",
      "\n",
      "100.0%\n"
     ]
    }
   ],
   "source": [
    "import torchvision.models as models\n",
    "model = models.resnet18(pretrained = True)\n",
    "device = torch.device(\"cuda:0\" if torch.cuda.is_available() else \"cpu\")"
   ]
  },
  {
   "cell_type": "code",
   "execution_count": 9,
   "metadata": {},
   "outputs": [],
   "source": [
    "for param in model.parameters():\n",
    "    param.requires_grad = False "
   ]
  },
  {
   "cell_type": "code",
   "execution_count": 23,
   "metadata": {},
   "outputs": [],
   "source": [
    "fc = nn.Sequential(OrderedDict([\n",
    "    ('fc1', nn.Linear(512,128)),\n",
    "    ('relu1', nn.ReLU()),\n",
    "    ('fc2', nn.Linear(128,64)),\n",
    "    ('relu2', nn.ReLU()),\n",
    "    ('fc3', nn.Linear(64,1)),\n",
    "    ('out', nn.Tanh())\n",
    "])).to(device)\n",
    "\n",
    "model.fc = fc"
   ]
  },
  {
   "cell_type": "code",
   "execution_count": 24,
   "metadata": {},
   "outputs": [],
   "source": [
    "model = model.to(device);\n",
    "\n",
    "image, l = next(iter(dataloader))"
   ]
  },
  {
   "cell_type": "code",
   "execution_count": 25,
   "metadata": {},
   "outputs": [
    {
     "name": "stdout",
     "output_type": "stream",
     "text": [
      "Epoch : 1/10.. Training Loss: 0.147315\n",
      "Epoch : 2/10.. Training Loss: 0.137317\n",
      "Epoch : 3/10.. Training Loss: 0.131215\n",
      "Epoch : 4/10.. Training Loss: 0.130871\n",
      "Epoch : 5/10.. Training Loss: 0.126965\n",
      "Epoch : 6/10.. Training Loss: 0.126356\n",
      "Epoch : 7/10.. Training Loss: 0.124689\n",
      "Epoch : 8/10.. Training Loss: 0.121290\n",
      "Epoch : 9/10.. Training Loss: 0.120189\n",
      "Epoch : 10/10.. Training Loss: 0.116532\n"
     ]
    },
    {
     "data": {
      "image/png": "[encoded data removed]",
      "text/plain": [
       "<Figure size 432x288 with 1 Axes>"
      ]
     },
     "metadata": {
      "needs_background": "light"
     },
     "output_type": "display_data"
    }
   ],
   "source": [
    "def train(model, trainloader, criterion, optimizer, epochs = 5):\n",
    "    train_loss =[]\n",
    "    for e in range(epochs):\n",
    "        running_loss =0\n",
    "        for images, labels in trainloader:\n",
    "            inputs, labels = images.to(device), labels.to(device)\n",
    "\n",
    "            optimizer.zero_grad()\n",
    "            out = model(inputs)\n",
    "            target = labels.reshape(out.shape[0],1).float()\n",
    "            loss = criterion(out, target)\n",
    "            running_loss+=loss\n",
    "            loss.backward()\n",
    "            optimizer.step()\n",
    "        print(\"Epoch : {}/{}..\".format(e+1,epochs),\n",
    "         \"Training Loss: {:.6f}\".format(running_loss/len(trainloader))) \n",
    "        train_loss.append(running_loss)\n",
    "    plt.plot(train_loss,label=\"Training Loss\")\n",
    "    plt.show() \n",
    "    \n",
    "    \n",
    "    \n",
    "epochs = 10\n",
    "model.train()\n",
    "optimizer = optim.Adam(model.fc.parameters(), lr=0.001)\n",
    "criterion = nn.MSELoss()  \n",
    "train(model,dataloader,criterion, optimizer, epochs)        "
   ]
  },
  {
   "cell_type": "code",
   "execution_count": 58,
   "metadata": {},
   "outputs": [],
   "source": [
    "model.eval()\n",
    "torch.save(model, \"unbalanced_model\")"
   ]
  },
  {
   "cell_type": "code",
   "execution_count": 59,
   "metadata": {},
   "outputs": [
    {
     "name": "stdout",
     "output_type": "stream",
     "text": [
      "tensor([[[0.0941, 0.0902, 0.0824,  ..., 0.5373, 0.3176, 0.0510],\n",
      "         [0.0941, 0.0863, 0.1059,  ..., 0.5412, 0.2745, 0.0627],\n",
      "         [0.0745, 0.0941, 0.0784,  ..., 0.5098, 0.2314, 0.0627],\n",
      "         ...,\n",
      "         [0.1490, 0.1569, 0.1569,  ..., 0.1529, 0.1608, 0.1608],\n",
      "         [0.1490, 0.1569, 0.1569,  ..., 0.1647, 0.1686, 0.1686],\n",
      "         [0.1490, 0.1608, 0.1569,  ..., 0.1686, 0.1686, 0.1725]],\n",
      "\n",
      "        [[0.0941, 0.0902, 0.0824,  ..., 0.5373, 0.3176, 0.0510],\n",
      "         [0.0941, 0.0863, 0.1059,  ..., 0.5412, 0.2745, 0.0627],\n",
      "         [0.0745, 0.0941, 0.0784,  ..., 0.5098, 0.2314, 0.0627],\n",
      "         ...,\n",
      "         [0.1490, 0.1569, 0.1569,  ..., 0.1529, 0.1608, 0.1608],\n",
      "         [0.1490, 0.1569, 0.1569,  ..., 0.1647, 0.1686, 0.1686],\n",
      "         [0.1490, 0.1608, 0.1569,  ..., 0.1686, 0.1686, 0.1725]],\n",
      "\n",
      "        [[0.0941, 0.0902, 0.0824,  ..., 0.5373, 0.3176, 0.0510],\n",
      "         [0.0941, 0.0863, 0.1059,  ..., 0.5412, 0.2745, 0.0627],\n",
      "         [0.0745, 0.0941, 0.0784,  ..., 0.5098, 0.2314, 0.0627],\n",
      "         ...,\n",
      "         [0.1490, 0.1569, 0.1569,  ..., 0.1529, 0.1608, 0.1608],\n",
      "         [0.1490, 0.1569, 0.1569,  ..., 0.1647, 0.1686, 0.1686],\n",
      "         [0.1490, 0.1608, 0.1569,  ..., 0.1686, 0.1686, 0.1725]]])\n"
     ]
    },
    {
     "data": {
      "text/plain": [
       "tensor([[-0.1703]], device='cuda:0', grad_fn=<TanhBackward>)"
      ]
     },
     "execution_count": 59,
     "metadata": {},
     "output_type": "execute_result"
    }
   ],
   "source": [
    "model.eval()\n",
    "img = Image.open('../../../../catkin_ws/images/test/left0000.jpg')\n",
    "torch_img = torchvision.transforms.functional.to_tensor(img)\n",
    "print(torch_img)\n",
    "# imshow(img)\n",
    "model(torch_img.reshape(1,3,120,320).to(device))"
   ]
  },
  {
   "cell_type": "code",
   "execution_count": null,
   "metadata": {},
   "outputs": [],
   "source": []
  }
 ],
 "metadata": {
  "kernelspec": {
   "display_name": "Python 3",
   "language": "python",
   "name": "python3"
  },
  "language_info": {
   "codemirror_mode": {
    "name": "ipython",
    "version": 3
   },
   "file_extension": ".py",
   "mimetype": "text/x-python",
   "name": "python",
   "nbconvert_exporter": "python",
   "pygments_lexer": "ipython3",
   "version": "3.6.9"
  }
 },
 "nbformat": 4,
 "nbformat_minor": 4
}
