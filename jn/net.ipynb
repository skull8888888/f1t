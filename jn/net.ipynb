{
 "cells": [
  {
   "cell_type": "code",
   "execution_count": 1,
   "metadata": {},
   "outputs": [],
   "source": [
    "import torch\n",
    "import pandas as pd\n",
    "import numpy as np\n",
    "import torchvision\n",
    "from PIL import Image\n",
    "import matplotlib.pyplot as plt\n",
    "\n",
    "from torch import nn\n",
    "from torch import optim\n",
    "\n",
    "import torch.nn.functional as F\n",
    "import scipy\n",
    "from sklearn.utils import resample\n",
    "from collections import OrderedDict"
   ]
  },
  {
   "cell_type": "code",
   "execution_count": 31,
   "metadata": {},
   "outputs": [],
   "source": [
    "class Dataset(torch.utils.data.Dataset):\n",
    "    def __init__(self, dataframe, images_path):\n",
    "        self.dataframe = dataframe\n",
    "        self.images_path = images_path\n",
    "\n",
    "    def __len__(self):\n",
    "        return len(self.dataframe)\n",
    "\n",
    "    def __getitem__(self, index):\n",
    "        row = self.dataframe.iloc[index]\n",
    "#         print(row['index'])\n",
    "        img = Image.open(self.images_path + str(int(row['index'])).zfill(4) + '.jpg')\n",
    "#         img = img.resize((224,224), Image.ANTIALIAS)\n",
    "        \n",
    "        return (\n",
    "            torchvision.transforms.functional.to_tensor(img),\n",
    "            row[\"data\"],\n",
    "        )\n"
   ]
  },
  {
   "cell_type": "code",
   "execution_count": 23,
   "metadata": {},
   "outputs": [],
   "source": [
    "df = pd.read_csv('train_steer.csv', index_col=False)\n",
    "df = df.reset_index()\n"
   ]
  },
  {
   "cell_type": "code",
   "execution_count": 24,
   "metadata": {},
   "outputs": [
    {
     "data": {
      "text/plain": [
       "<AxesSubplot:ylabel='Frequency'>"
      ]
     },
     "execution_count": 24,
     "metadata": {},
     "output_type": "execute_result"
    },
    {
     "data": {
      "image/png": "[encoded data removed]",
      "text/plain": [
       "<Figure size 432x288 with 1 Axes>"
      ]
     },
     "metadata": {
      "needs_background": "light"
     },
     "output_type": "display_data"
    }
   ],
   "source": [
    "# image, label = next(iter(test_dataset))\n",
    "df.data.plot.hist()"
   ]
  },
  {
   "cell_type": "code",
   "execution_count": 32,
   "metadata": {},
   "outputs": [
    {
     "data": {
      "text/html": [
       "<div>\n",
       "<style scoped>\n",
       "    .dataframe tbody tr th:only-of-type {\n",
       "        vertical-align: middle;\n",
       "    }\n",
       "\n",
       "    .dataframe tbody tr th {\n",
       "        vertical-align: top;\n",
       "    }\n",
       "\n",
       "    .dataframe thead th {\n",
       "        text-align: right;\n",
       "    }\n",
       "</style>\n",
       "<table border=\"1\" class=\"dataframe\">\n",
       "  <thead>\n",
       "    <tr style=\"text-align: right;\">\n",
       "      <th></th>\n",
       "      <th>index</th>\n",
       "      <th>Unnamed: 0</th>\n",
       "      <th>data</th>\n",
       "    </tr>\n",
       "  </thead>\n",
       "  <tbody>\n",
       "    <tr>\n",
       "      <th>0</th>\n",
       "      <td>0</td>\n",
       "      <td>0</td>\n",
       "      <td>0.0875</td>\n",
       "    </tr>\n",
       "    <tr>\n",
       "      <th>1</th>\n",
       "      <td>1</td>\n",
       "      <td>1</td>\n",
       "      <td>0.0900</td>\n",
       "    </tr>\n",
       "    <tr>\n",
       "      <th>2</th>\n",
       "      <td>2</td>\n",
       "      <td>2</td>\n",
       "      <td>0.0900</td>\n",
       "    </tr>\n",
       "    <tr>\n",
       "      <th>3</th>\n",
       "      <td>3</td>\n",
       "      <td>3</td>\n",
       "      <td>0.0875</td>\n",
       "    </tr>\n",
       "    <tr>\n",
       "      <th>4</th>\n",
       "      <td>4</td>\n",
       "      <td>4</td>\n",
       "      <td>0.0875</td>\n",
       "    </tr>\n",
       "    <tr>\n",
       "      <th>...</th>\n",
       "      <td>...</td>\n",
       "      <td>...</td>\n",
       "      <td>...</td>\n",
       "    </tr>\n",
       "    <tr>\n",
       "      <th>1379</th>\n",
       "      <td>1379</td>\n",
       "      <td>1379</td>\n",
       "      <td>-0.9125</td>\n",
       "    </tr>\n",
       "    <tr>\n",
       "      <th>5606</th>\n",
       "      <td>5606</td>\n",
       "      <td>5606</td>\n",
       "      <td>-0.4525</td>\n",
       "    </tr>\n",
       "    <tr>\n",
       "      <th>2403</th>\n",
       "      <td>2403</td>\n",
       "      <td>2403</td>\n",
       "      <td>-0.6275</td>\n",
       "    </tr>\n",
       "    <tr>\n",
       "      <th>559</th>\n",
       "      <td>559</td>\n",
       "      <td>559</td>\n",
       "      <td>-0.9475</td>\n",
       "    </tr>\n",
       "    <tr>\n",
       "      <th>5229</th>\n",
       "      <td>5229</td>\n",
       "      <td>5229</td>\n",
       "      <td>-0.6700</td>\n",
       "    </tr>\n",
       "  </tbody>\n",
       "</table>\n",
       "<p>10678 rows × 3 columns</p>\n",
       "</div>"
      ],
      "text/plain": [
       "      index  Unnamed: 0    data\n",
       "0         0           0  0.0875\n",
       "1         1           1  0.0900\n",
       "2         2           2  0.0900\n",
       "3         3           3  0.0875\n",
       "4         4           4  0.0875\n",
       "...     ...         ...     ...\n",
       "1379   1379        1379 -0.9125\n",
       "5606   5606        5606 -0.4525\n",
       "2403   2403        2403 -0.6275\n",
       "559     559         559 -0.9475\n",
       "5229   5229        5229 -0.6700\n",
       "\n",
       "[10678 rows x 3 columns]"
      ]
     },
     "execution_count": 32,
     "metadata": {},
     "output_type": "execute_result"
    },
    {
     "data": {
      "image/png": "[encoded data removed]",
      "text/plain": [
       "<Figure size 432x288 with 1 Axes>"
      ]
     },
     "metadata": {
      "needs_background": "light"
     },
     "output_type": "display_data"
    }
   ],
   "source": [
    "# plt.imshow(image.permute(1, 2, 0))\n",
    "threshold = -0.3\n",
    "df_min = df[df.data < threshold]\n",
    "df_maj = df[df.data >= threshold]\n",
    "\n",
    "df_minority_upsampled = resample(df_min, \n",
    "                                 replace=True,     # sample with replacement\n",
    "                                 n_samples=len(df_maj),    # to match majority class\n",
    "                                 random_state=123)\n",
    "# df\n",
    "df_balanced = pd.concat([df_maj, df_minority_upsampled])\n",
    "df_balanced.data.plot.hist()\n",
    "\n",
    "df_balanced\n",
    "# train_df['data'].plot.hist()"
   ]
  },
  {
   "cell_type": "code",
   "execution_count": 34,
   "metadata": {},
   "outputs": [],
   "source": [
    "dataset = Dataset(df_balanced, '../catkin_ws/images/train_images/left')\n",
    "dataloader = torch.utils.data.DataLoader(dataset, batch_size=16, shuffle=True)\n"
   ]
  },
  {
   "cell_type": "code",
   "execution_count": 35,
   "metadata": {
    "scrolled": true
   },
   "outputs": [],
   "source": [
    "import torchvision.models as models\n",
    "model = models.resnet18(pretrained = True)\n",
    "device = torch.device(\"cuda:0\" if torch.cuda.is_available() else \"cpu\")"
   ]
  },
  {
   "cell_type": "code",
   "execution_count": 36,
   "metadata": {},
   "outputs": [],
   "source": [
    "for param in model.parameters():\n",
    "    param.requires_grad = False "
   ]
  },
  {
   "cell_type": "code",
   "execution_count": 38,
   "metadata": {},
   "outputs": [],
   "source": [
    "fc = nn.Sequential(OrderedDict([\n",
    "    ('fc1', nn.Linear(512,256)),\n",
    "    ('relu1', nn.ReLU()),\n",
    "    ('fc2', nn.Linear(256,128)),\n",
    "    ('relu2', nn.ReLU()),\n",
    "    ('fc3', nn.Linear(128,64)),\n",
    "    ('relu3', nn.ReLU()),\n",
    "    ('fc4', nn.Linear(64,1)),\n",
    "    ('out', nn.Tanh())\n",
    "])).to(device)\n",
    "\n",
    "model.fc = fc"
   ]
  },
  {
   "cell_type": "code",
   "execution_count": 39,
   "metadata": {},
   "outputs": [],
   "source": [
    "model = model.to(device);\n",
    "\n",
    "image, l = next(iter(dataloader))"
   ]
  },
  {
   "cell_type": "code",
   "execution_count": 40,
   "metadata": {},
   "outputs": [
    {
     "name": "stdout",
     "output_type": "stream",
     "text": [
      "Epoch : 1/5.. Training Loss: 0.136584\n",
      "Epoch : 2/5.. Training Loss: 0.116273\n",
      "Epoch : 3/5.. Training Loss: 0.108339\n",
      "Epoch : 4/5.. Training Loss: 0.100913\n",
      "Epoch : 5/5.. Training Loss: 0.097724\n"
     ]
    },
    {
     "data": {
      "image/png": "[encoded data removed]",
      "text/plain": [
       "<Figure size 432x288 with 1 Axes>"
      ]
     },
     "metadata": {
      "needs_background": "light"
     },
     "output_type": "display_data"
    }
   ],
   "source": [
    "def train(model, trainloader, criterion, optimizer, epochs = 5):\n",
    "    train_loss =[]\n",
    "    for e in range(epochs):\n",
    "        running_loss =0\n",
    "        for images, labels in trainloader:\n",
    "            inputs, labels = images.to(device), labels.to(device)\n",
    "\n",
    "            optimizer.zero_grad()\n",
    "            out = model(inputs)\n",
    "            target = labels.reshape(out.shape[0],1).float()\n",
    "            loss = criterion(out, target)\n",
    "            running_loss+=loss\n",
    "            loss.backward()\n",
    "            optimizer.step()\n",
    "        print(\"Epoch : {}/{}..\".format(e+1,epochs),\n",
    "         \"Training Loss: {:.6f}\".format(running_loss/len(trainloader))) \n",
    "        train_loss.append(running_loss)\n",
    "    plt.plot(train_loss,label=\"Training Loss\")\n",
    "    plt.show() \n",
    "    \n",
    "    \n",
    "    \n",
    "epochs = 5\n",
    "model.train()\n",
    "optimizer = optim.Adam(model.fc.parameters(), lr=0.001)\n",
    "criterion = nn.MSELoss()  \n",
    "train(model,dataloader,criterion, optimizer, epochs)        "
   ]
  },
  {
   "cell_type": "code",
   "execution_count": 41,
   "metadata": {},
   "outputs": [],
   "source": [
    "torch.save(model, \"balanced_model\")"
   ]
  },
  {
   "cell_type": "code",
   "execution_count": 27,
   "metadata": {},
   "outputs": [
    {
     "data": {
      "text/plain": [
       "tensor([[-0.3732],\n",
       "        [ 0.1491],\n",
       "        [ 0.1671],\n",
       "        [-0.0122],\n",
       "        [-0.1624],\n",
       "        [-0.1104],\n",
       "        [ 0.1240],\n",
       "        [-0.3811],\n",
       "        [-0.1778],\n",
       "        [-0.1652],\n",
       "        [ 0.0467],\n",
       "        [ 0.0979],\n",
       "        [-0.5751],\n",
       "        [ 0.0948],\n",
       "        [-0.4291],\n",
       "        [ 0.1032]], device='cuda:0', grad_fn=<AddmmBackward>)"
      ]
     },
     "execution_count": 27,
     "metadata": {},
     "output_type": "execute_result"
    },
    {
     "data": {
      "image/png": "[encoded data removed]",
      "text/plain": [
       "<Figure size 432x288 with 1 Axes>"
      ]
     },
     "metadata": {
      "needs_background": "light"
     },
     "output_type": "display_data"
    }
   ],
   "source": [
    "model.eval()\n",
    "image, l = next(iter(dataloader))\n",
    "img = image[0]\n",
    "plt.imshow(img.permute(1, 2, 0))\n",
    "model(image.to(device))"
   ]
  },
  {
   "cell_type": "code",
   "execution_count": null,
   "metadata": {},
   "outputs": [],
   "source": []
  }
 ],
 "metadata": {
  "kernelspec": {
   "display_name": "Python 3",
   "language": "python",
   "name": "python3"
  },
  "language_info": {
   "codemirror_mode": {
    "name": "ipython",
    "version": 3
   },
   "file_extension": ".py",
   "mimetype": "text/x-python",
   "name": "python",
   "nbconvert_exporter": "python",
   "pygments_lexer": "ipython3",
   "version": "3.6.9"
  }
 },
 "nbformat": 4,
 "nbformat_minor": 4
}
